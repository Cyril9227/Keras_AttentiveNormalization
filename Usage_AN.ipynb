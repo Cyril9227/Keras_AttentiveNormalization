{
 "cells": [
  {
   "cell_type": "markdown",
   "metadata": {},
   "source": [
    "# Attentive Normalization"
   ]
  },
  {
   "cell_type": "code",
   "execution_count": 1,
   "metadata": {},
   "outputs": [
    {
     "name": "stderr",
     "output_type": "stream",
     "text": [
      "Using TensorFlow backend.\n"
     ]
    }
   ],
   "source": [
    "from AN.AttentiveNormalization import AttentiveNormalization\n",
    "from keras.models import Model\n",
    "from keras.layers import Conv2D, Dense, GlobalAveragePooling2D, Input\n",
    "import numpy as np\n"
   ]
  },
  {
   "cell_type": "code",
   "execution_count": 2,
   "metadata": {},
   "outputs": [],
   "source": [
    "# dummy training set\n",
    "X_train = np.array([np.ones((64, 64, 3)) for _ in range(10)])\n",
    "y_train = np.array([[1.] for _ in range(10)])"
   ]
  },
  {
   "cell_type": "markdown",
   "metadata": {},
   "source": [
    "It can be used as a droppin replacement of standard BatchNormalization layer. "
   ]
  },
  {
   "cell_type": "code",
   "execution_count": 3,
   "metadata": {},
   "outputs": [],
   "source": [
    "inp = Input((64, 64, 3))\n",
    "x = Dense(20, activation=\"relu\")(inp)\n",
    "x = AttentiveNormalization(n_mixture=5, momentum=0.99, epsilon=0.001, axis=-1)(x)\n",
    "x = GlobalAveragePooling2D()(x)\n",
    "pred = Dense(1, activation='sigmoid')(x)\n",
    "model = Model(inp, pred)"
   ]
  },
  {
   "cell_type": "code",
   "execution_count": 4,
   "metadata": {},
   "outputs": [
    {
     "name": "stdout",
     "output_type": "stream",
     "text": [
      "_________________________________________________________________\n",
      "Layer (type)                 Output Shape              Param #   \n",
      "=================================================================\n",
      "input_1 (InputLayer)         (None, 64, 64, 3)         0         \n",
      "_________________________________________________________________\n",
      "dense_1 (Dense)              (None, 64, 64, 20)        80        \n",
      "_________________________________________________________________\n",
      "attentive_normalization_1 (A (None, 64, 64, 20)        345       \n",
      "_________________________________________________________________\n",
      "global_average_pooling2d_2 ( (None, 20)                0         \n",
      "_________________________________________________________________\n",
      "dense_3 (Dense)              (None, 1)                 21        \n",
      "=================================================================\n",
      "Total params: 446\n",
      "Trainable params: 406\n",
      "Non-trainable params: 40\n",
      "_________________________________________________________________\n"
     ]
    }
   ],
   "source": [
    "model.summary()"
   ]
  },
  {
   "cell_type": "code",
   "execution_count": 5,
   "metadata": {},
   "outputs": [
    {
     "name": "stdout",
     "output_type": "stream",
     "text": [
      "Epoch 1/10\n",
      "10/10 [==============================] - 3s 283ms/step - loss: 1.0023\n",
      "Epoch 2/10\n",
      "10/10 [==============================] - 0s 819us/step - loss: 0.6011\n",
      "Epoch 3/10\n",
      "10/10 [==============================] - 0s 727us/step - loss: 0.5775\n",
      "Epoch 4/10\n",
      "10/10 [==============================] - 0s 944us/step - loss: 0.5536\n",
      "Epoch 5/10\n",
      "10/10 [==============================] - 0s 994us/step - loss: 0.5301\n",
      "Epoch 6/10\n",
      "10/10 [==============================] - 0s 1ms/step - loss: 0.5070\n",
      "Epoch 7/10\n",
      "10/10 [==============================] - 0s 1ms/step - loss: 0.4846\n",
      "Epoch 8/10\n",
      "10/10 [==============================] - 0s 1ms/step - loss: 0.4628\n",
      "Epoch 9/10\n",
      "10/10 [==============================] - 0s 961us/step - loss: 0.4418\n",
      "Epoch 10/10\n",
      "10/10 [==============================] - 0s 1ms/step - loss: 0.4215\n"
     ]
    }
   ],
   "source": [
    "model.compile(\"Adam\", loss=\"binary_crossentropy\")\n",
    "hist = model.fit(X_train, y_train, epochs=10)"
   ]
  },
  {
   "cell_type": "code",
   "execution_count": 6,
   "metadata": {},
   "outputs": [
    {
     "data": {
      "text/plain": [
       "array([[0.80408406],\n",
       "       [0.8052154 ],\n",
       "       [0.8048966 ],\n",
       "       [0.80483806],\n",
       "       [0.80329776],\n",
       "       [0.80241543],\n",
       "       [0.8052652 ],\n",
       "       [0.80400807],\n",
       "       [0.80320024],\n",
       "       [0.8054705 ]], dtype=float32)"
      ]
     },
     "execution_count": 6,
     "metadata": {},
     "output_type": "execute_result"
    }
   ],
   "source": [
    "hist.model.predict(np.array([np.random.rand(64, 64, 3) for _ in range(10)]))"
   ]
  }
 ],
 "metadata": {
  "kernelspec": {
   "display_name": "Python 3",
   "language": "python",
   "name": "python3"
  },
  "language_info": {
   "codemirror_mode": {
    "name": "ipython",
    "version": 3
   },
   "file_extension": ".py",
   "mimetype": "text/x-python",
   "name": "python",
   "nbconvert_exporter": "python",
   "pygments_lexer": "ipython3",
   "version": "3.5.4"
  }
 },
 "nbformat": 4,
 "nbformat_minor": 2
}
